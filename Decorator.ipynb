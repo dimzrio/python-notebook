{
 "cells": [
  {
   "cell_type": "markdown",
   "metadata": {},
   "source": [
    "# Decorator"
   ]
  },
  {
   "cell_type": "markdown",
   "metadata": {},
   "source": [
    "#### Fundamental ####"
   ]
  },
  {
   "cell_type": "code",
   "execution_count": 1,
   "metadata": {},
   "outputs": [],
   "source": [
    "def detail(func):\n",
    "    print('+++ Detail Information +++')\n",
    "    func"
   ]
  },
  {
   "cell_type": "code",
   "execution_count": 2,
   "metadata": {},
   "outputs": [],
   "source": [
    "def myname(name):\n",
    "    print('My name is {}'.format(name))"
   ]
  },
  {
   "cell_type": "code",
   "execution_count": 3,
   "metadata": {},
   "outputs": [
    {
     "name": "stdout",
     "output_type": "stream",
     "text": [
      "My name is Dimas Rio\n",
      "+++ Detail Information +++\n"
     ]
    }
   ],
   "source": [
    "detail(myname('Dimas Rio'))"
   ]
  },
  {
   "cell_type": "markdown",
   "metadata": {},
   "source": [
    "#### Decorator Special Func ####"
   ]
  },
  {
   "cell_type": "code",
   "execution_count": 4,
   "metadata": {},
   "outputs": [],
   "source": [
    "def detail(func):\n",
    "    def wrapper(name):\n",
    "        print('+++ Detail Information +++')\n",
    "        func(name)\n",
    "        return\n",
    "    return wrapper"
   ]
  },
  {
   "cell_type": "code",
   "execution_count": 5,
   "metadata": {},
   "outputs": [],
   "source": [
    "@detail\n",
    "def myname(name):\n",
    "    print('My name is {}'.format(name))"
   ]
  },
  {
   "cell_type": "code",
   "execution_count": 6,
   "metadata": {},
   "outputs": [
    {
     "name": "stdout",
     "output_type": "stream",
     "text": [
      "+++ Detail Information +++\n",
      "My name is Dimas Rio\n"
     ]
    }
   ],
   "source": [
    "myname('Dimas Rio')"
   ]
  },
  {
   "cell_type": "markdown",
   "metadata": {},
   "source": [
    "# Decorator with Arguments"
   ]
  },
  {
   "cell_type": "code",
   "execution_count": 7,
   "metadata": {},
   "outputs": [],
   "source": [
    "import random\n",
    "\n",
    "def power_of_2(func):\n",
    "    def wrapper():\n",
    "        return func() ** 2\n",
    "    return wrapper\n",
    "\n",
    "@power_of_2\n",
    "def random_odd_digit():\n",
    "    return random.choice([1,3,5,7,9])"
   ]
  },
  {
   "cell_type": "code",
   "execution_count": 8,
   "metadata": {},
   "outputs": [
    {
     "name": "stdout",
     "output_type": "stream",
     "text": [
      "49\n"
     ]
    }
   ],
   "source": [
    "print(random_odd_digit())"
   ]
  },
  {
   "cell_type": "code",
   "execution_count": 9,
   "metadata": {},
   "outputs": [],
   "source": [
    "import random\n",
    "\n",
    "def power_of(exponent=2):\n",
    "    # Default exponent is 2\n",
    "    \n",
    "    def decorator(func):\n",
    "        def wrapper():\n",
    "            return func() ** exponent\n",
    "        return wrapper\n",
    "    return decorator\n",
    "\n",
    "@power_of\n",
    "def random_odd_digit():\n",
    "    return random.choice([1,3,5,7,9])"
   ]
  },
  {
   "cell_type": "code",
   "execution_count": 10,
   "metadata": {},
   "outputs": [
    {
     "ename": "TypeError",
     "evalue": "decorator() missing 1 required positional argument: 'func'",
     "output_type": "error",
     "traceback": [
      "\u001b[0;31m---------------------------------------------------------------------------\u001b[0m",
      "\u001b[0;31mTypeError\u001b[0m                                 Traceback (most recent call last)",
      "\u001b[0;32m<ipython-input-10-577708f03c53>\u001b[0m in \u001b[0;36m<module>\u001b[0;34m()\u001b[0m\n\u001b[1;32m      1\u001b[0m \u001b[0;31m# Error, power of 2 is callable\u001b[0m\u001b[0;34m\u001b[0m\u001b[0;34m\u001b[0m\u001b[0m\n\u001b[0;32m----> 2\u001b[0;31m \u001b[0mprint\u001b[0m\u001b[0;34m(\u001b[0m\u001b[0mrandom_odd_digit\u001b[0m\u001b[0;34m(\u001b[0m\u001b[0;34m)\u001b[0m\u001b[0;34m)\u001b[0m\u001b[0;34m\u001b[0m\u001b[0m\n\u001b[0m",
      "\u001b[0;31mTypeError\u001b[0m: decorator() missing 1 required positional argument: 'func'"
     ]
    }
   ],
   "source": [
    "# Error, power of 2 is callable\n",
    "print(random_odd_digit())"
   ]
  },
  {
   "cell_type": "code",
   "execution_count": 11,
   "metadata": {},
   "outputs": [],
   "source": [
    "import random\n",
    "\n",
    "def power_of(Args):\n",
    "    \n",
    "    def decorator(func):\n",
    "        print('Func is: ', func)\n",
    "        def wrapper():\n",
    "            return func() ** exponent\n",
    "        return wrapper\n",
    "    \n",
    "    # Debug\n",
    "    print('Args is callable? ', callable(Args)) # if true, Args is an func without arguments, else Args is argumennt\n",
    "    print('Args is: ', Args)\n",
    "    \n",
    "    if callable(Args):\n",
    "        exponent = 2\n",
    "        return decorator(Args)\n",
    "    else:\n",
    "        exponent = Args\n",
    "        return decorator"
   ]
  },
  {
   "cell_type": "code",
   "execution_count": 12,
   "metadata": {},
   "outputs": [
    {
     "name": "stdout",
     "output_type": "stream",
     "text": [
      "Args is callable?  True\n",
      "Args is:  <function random_odd_digit at 0x10fa2b378>\n",
      "Func is:  <function random_odd_digit at 0x10fa2b378>\n",
      "49\n"
     ]
    }
   ],
   "source": [
    "@power_of\n",
    "def random_odd_digit():\n",
    "    return random.choice([1,3,5,7,9])\n",
    "\n",
    "print(random_odd_digit())"
   ]
  },
  {
   "cell_type": "code",
   "execution_count": 13,
   "metadata": {},
   "outputs": [
    {
     "name": "stdout",
     "output_type": "stream",
     "text": [
      "Args is callable?  False\n",
      "Args is:  3\n",
      "Func is:  <function random_odd_digit at 0x10fa2b6a8>\n",
      "125\n"
     ]
    }
   ],
   "source": [
    "@power_of(3)\n",
    "def random_odd_digit():\n",
    "    return random.choice([1,3,5,7,9])\n",
    "\n",
    "print(random_odd_digit())"
   ]
  },
  {
   "cell_type": "markdown",
   "metadata": {},
   "source": [
    "# Decorator Class"
   ]
  },
  {
   "cell_type": "code",
   "execution_count": 24,
   "metadata": {},
   "outputs": [],
   "source": [
    "class Animal:\n",
    "    \n",
    "    def __init__(self, func):\n",
    "        self._func = func\n",
    "        self._history = []\n",
    "        \n",
    "    def __call__(self):\n",
    "        self._name = self._func()\n",
    "        return self._name\n",
    "    \n",
    "    def details(self):\n",
    "        self._history.append(self._name)\n",
    "        return('[+] Name: {}'.format(self._name))\n",
    "    \n",
    "    def history(self):\n",
    "        return self._history\n",
    "\n",
    "@Animal\n",
    "def info():\n",
    "    name = input('[?] Input your name? ')\n",
    "    return name"
   ]
  },
  {
   "cell_type": "code",
   "execution_count": 25,
   "metadata": {},
   "outputs": [
    {
     "name": "stdout",
     "output_type": "stream",
     "text": [
      "[?] Input your name? Hana\n",
      "Hana\n",
      "[+] Name: Hana\n",
      "[?] Input your name? Pertiwi\n",
      "Pertiwi\n",
      "[+] Name: Pertiwi\n"
     ]
    }
   ],
   "source": [
    "print(info())\n",
    "print(info.details())\n",
    "print(info())\n",
    "print(info.details())"
   ]
  },
  {
   "cell_type": "code",
   "execution_count": 26,
   "metadata": {},
   "outputs": [
    {
     "name": "stdout",
     "output_type": "stream",
     "text": [
      "['Hana', 'Pertiwi']\n"
     ]
    }
   ],
   "source": [
    "print(info.history())"
   ]
  },
  {
   "cell_type": "code",
   "execution_count": null,
   "metadata": {},
   "outputs": [],
   "source": []
  }
 ],
 "metadata": {
  "kernelspec": {
   "display_name": "Python 3",
   "language": "python",
   "name": "python3"
  },
  "language_info": {
   "codemirror_mode": {
    "name": "ipython",
    "version": 3
   },
   "file_extension": ".py",
   "mimetype": "text/x-python",
   "name": "python",
   "nbconvert_exporter": "python",
   "pygments_lexer": "ipython3",
   "version": "3.6.5"
  }
 },
 "nbformat": 4,
 "nbformat_minor": 2
}
